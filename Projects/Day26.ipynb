{
 "cells": [
  {
   "cell_type": "code",
   "execution_count": null,
   "metadata": {},
   "outputs": [],
   "source": []
  },
  {
   "cell_type": "markdown",
   "metadata": {},
   "source": [
    "# Plant Disease Prediction Model"
   ]
  },
  {
   "cell_type": "code",
   "execution_count": null,
   "metadata": {},
   "outputs": [],
   "source": [
    "# Set seeds for reproducibility \n",
    "import random \n",
    "random.seed(0) \n",
    "import numpy as np \n",
    "np.random.seed(0) \n",
    "import tensorflow as tf \n",
    "tf.random.set_seed(0)"
   ]
  },
  {
   "cell_type": "markdown",
   "metadata": {},
   "source": [
    "### Import Dependency"
   ]
  },
  {
   "cell_type": "code",
   "execution_count": 2,
   "metadata": {},
   "outputs": [
    {
     "name": "stdout",
     "output_type": "stream",
     "text": [
      "WARNING:tensorflow:From c:\\Users\\Priyanshu\\Desktop\\Current Web Projects\\EpicEnigma\\EE_DeepLearing\\venv\\Lib\\site-packages\\keras\\src\\losses.py:2976: The name tf.losses.sparse_softmax_cross_entropy is deprecated. Please use tf.compat.v1.losses.sparse_softmax_cross_entropy instead.\n",
      "\n"
     ]
    }
   ],
   "source": [
    "import os \n",
    "import json \n",
    "from zipfile import ZipFile \n",
    "from PIL import Image \n",
    "import numpy as np \n",
    "import matplotlib.pyplot as plt \n",
    "import matplotlib.image as mpimg \n",
    "from tensorflow.keras.preprocessing.image import ImageDataGenerator \n",
    "from tensorflow.keras import layers, models"
   ]
  },
  {
   "cell_type": "code",
   "execution_count": 3,
   "metadata": {},
   "outputs": [
    {
     "name": "stdout",
     "output_type": "stream",
     "text": [
      "Collecting kaggle\n",
      "  Downloading kaggle-1.6.6.tar.gz (84 kB)\n",
      "     ---------------------------------------- 0.0/84.6 kB ? eta -:--:--\n",
      "     ---------------------------------------- 0.0/84.6 kB ? eta -:--:--\n",
      "     ---- ----------------------------------- 10.2/84.6 kB ? eta -:--:--\n",
      "     ---- ----------------------------------- 10.2/84.6 kB ? eta -:--:--\n",
      "     ---- ----------------------------------- 10.2/84.6 kB ? eta -:--:--\n",
      "     ---- ----------------------------------- 10.2/84.6 kB ? eta -:--:--\n",
      "     ------------- ------------------------ 30.7/84.6 kB 109.5 kB/s eta 0:00:01\n",
      "     ------------- ------------------------ 30.7/84.6 kB 109.5 kB/s eta 0:00:01\n",
      "     ------------- ------------------------ 30.7/84.6 kB 109.5 kB/s eta 0:00:01\n",
      "     ------------- ------------------------ 30.7/84.6 kB 109.5 kB/s eta 0:00:01\n",
      "     ------------- ------------------------ 30.7/84.6 kB 109.5 kB/s eta 0:00:01\n",
      "     ------------- ------------------------ 30.7/84.6 kB 109.5 kB/s eta 0:00:01\n",
      "     ------------- ------------------------ 30.7/84.6 kB 109.5 kB/s eta 0:00:01\n",
      "     ------------- ------------------------ 30.7/84.6 kB 109.5 kB/s eta 0:00:01\n",
      "     ------------- ------------------------ 30.7/84.6 kB 109.5 kB/s eta 0:00:01\n",
      "     ------------- ------------------------ 30.7/84.6 kB 109.5 kB/s eta 0:00:01\n",
      "     ------------------ -------------------- 41.0/84.6 kB 48.0 kB/s eta 0:00:01\n",
      "     ------------------ -------------------- 41.0/84.6 kB 48.0 kB/s eta 0:00:01\n",
      "     ------------------ -------------------- 41.0/84.6 kB 48.0 kB/s eta 0:00:01\n",
      "     ---------------------------- ---------- 61.4/84.6 kB 65.6 kB/s eta 0:00:01\n",
      "     ---------------------------- ---------- 61.4/84.6 kB 65.6 kB/s eta 0:00:01\n",
      "     ------------------------------------- - 81.9/84.6 kB 80.5 kB/s eta 0:00:01\n",
      "     --------------------------------------- 84.6/84.6 kB 82.0 kB/s eta 0:00:00\n",
      "  Preparing metadata (setup.py): started\n",
      "  Preparing metadata (setup.py): finished with status 'done'\n",
      "Requirement already satisfied: six>=1.10 in c:\\users\\priyanshu\\desktop\\current web projects\\epicenigma\\ee_deeplearing\\venv\\lib\\site-packages (from kaggle) (1.16.0)\n",
      "Requirement already satisfied: certifi in c:\\users\\priyanshu\\desktop\\current web projects\\epicenigma\\ee_deeplearing\\venv\\lib\\site-packages (from kaggle) (2023.11.17)\n",
      "Requirement already satisfied: python-dateutil in c:\\users\\priyanshu\\desktop\\current web projects\\epicenigma\\ee_deeplearing\\venv\\lib\\site-packages (from kaggle) (2.8.2)\n",
      "Requirement already satisfied: requests in c:\\users\\priyanshu\\desktop\\current web projects\\epicenigma\\ee_deeplearing\\venv\\lib\\site-packages (from kaggle) (2.31.0)\n",
      "Requirement already satisfied: tqdm in c:\\users\\priyanshu\\desktop\\current web projects\\epicenigma\\ee_deeplearing\\venv\\lib\\site-packages (from kaggle) (4.66.1)\n",
      "Collecting python-slugify (from kaggle)\n",
      "  Downloading python_slugify-8.0.4-py2.py3-none-any.whl.metadata (8.5 kB)\n",
      "Requirement already satisfied: urllib3 in c:\\users\\priyanshu\\desktop\\current web projects\\epicenigma\\ee_deeplearing\\venv\\lib\\site-packages (from kaggle) (2.1.0)\n",
      "Collecting bleach (from kaggle)\n",
      "  Using cached bleach-6.1.0-py3-none-any.whl.metadata (30 kB)\n",
      "Requirement already satisfied: webencodings in c:\\users\\priyanshu\\desktop\\current web projects\\epicenigma\\ee_deeplearing\\venv\\lib\\site-packages (from bleach->kaggle) (0.5.1)\n",
      "Collecting text-unidecode>=1.3 (from python-slugify->kaggle)\n",
      "  Using cached text_unidecode-1.3-py2.py3-none-any.whl (78 kB)\n",
      "Requirement already satisfied: charset-normalizer<4,>=2 in c:\\users\\priyanshu\\desktop\\current web projects\\epicenigma\\ee_deeplearing\\venv\\lib\\site-packages (from requests->kaggle) (3.3.2)\n",
      "Requirement already satisfied: idna<4,>=2.5 in c:\\users\\priyanshu\\desktop\\current web projects\\epicenigma\\ee_deeplearing\\venv\\lib\\site-packages (from requests->kaggle) (3.6)\n",
      "Requirement already satisfied: colorama in c:\\users\\priyanshu\\desktop\\current web projects\\epicenigma\\ee_deeplearing\\venv\\lib\\site-packages (from tqdm->kaggle) (0.4.6)\n",
      "Using cached bleach-6.1.0-py3-none-any.whl (162 kB)\n",
      "Downloading python_slugify-8.0.4-py2.py3-none-any.whl (10 kB)\n",
      "Building wheels for collected packages: kaggle\n",
      "  Building wheel for kaggle (setup.py): started\n",
      "  Building wheel for kaggle (setup.py): finished with status 'done'\n",
      "  Created wheel for kaggle: filename=kaggle-1.6.6-py3-none-any.whl size=111953 sha256=07d0a898e1cca230ee8c1acaa3ae37c4324efe79bd293217b1a801f2d0bb2528\n",
      "  Stored in directory: c:\\users\\priyanshu\\appdata\\local\\pip\\cache\\wheels\\97\\06\\54\\3d44857e6aa73d66d0174f29389e7ea70c007105797e6ec05c\n",
      "Successfully built kaggle\n",
      "Installing collected packages: text-unidecode, python-slugify, bleach, kaggle\n",
      "Successfully installed bleach-6.1.0 kaggle-1.6.6 python-slugify-8.0.4 text-unidecode-1.3\n"
     ]
    }
   ],
   "source": [
    "!pip install kaggle"
   ]
  }
 ],
 "metadata": {
  "kernelspec": {
   "display_name": "venv",
   "language": "python",
   "name": "python3"
  },
  "language_info": {
   "codemirror_mode": {
    "name": "ipython",
    "version": 3
   },
   "file_extension": ".py",
   "mimetype": "text/x-python",
   "name": "python",
   "nbconvert_exporter": "python",
   "pygments_lexer": "ipython3",
   "version": "3.11.3"
  }
 },
 "nbformat": 4,
 "nbformat_minor": 2
}
