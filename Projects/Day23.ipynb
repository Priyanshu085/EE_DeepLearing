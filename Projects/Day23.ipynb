{
 "cells": [
  {
   "cell_type": "code",
   "execution_count": 2,
   "metadata": {},
   "outputs": [
    {
     "name": "stdout",
     "output_type": "stream",
     "text": [
      "WARNING:tensorflow:From c:\\Users\\Priyanshu\\Desktop\\Current Web Projects\\EpicEnigma\\EE_DeepLearing\\venv\\Lib\\site-packages\\keras\\src\\losses.py:2976: The name tf.losses.sparse_softmax_cross_entropy is deprecated. Please use tf.compat.v1.losses.sparse_softmax_cross_entropy instead.\n",
      "\n"
     ]
    }
   ],
   "source": [
    "import numpy as np\n",
    "import cv2\n",
    "from keras.datasets import mnist\n",
    "import matplotlib.pyplot as plt"
   ]
  },
  {
   "cell_type": "code",
   "execution_count": 3,
   "metadata": {},
   "outputs": [],
   "source": [
    "# Load the MNIST dataset\n",
    "(X_train, _), (_, _) = mnist.load_data()"
   ]
  },
  {
   "cell_type": "code",
   "execution_count": 7,
   "metadata": {},
   "outputs": [],
   "source": [
    "# Function to apply rotation and scaling transformations to images\n",
    "def augment_data(images):\n",
    "    augmented_images = []\n",
    "    for img in images:\n",
    "        # Rotate the image by a random angle between -15 and 15 degrees\n",
    "        angle = np.random.randint(-15, 15)\n",
    "        rotation_matrix = cv2.getRotationMatrix2D((img.shape[1]//2, img.shape[0]//2), angle, 1.0)\n",
    "        rotated_img = cv2.warpAffine(img, rotation_matrix, (img.shape[1], img.shape[0]))\n",
    "        \n",
    "        # Scale the image by a random factor between 0.9 and 1.1\n",
    "        scale_factor = np.random.uniform(0.9, 1.1)\n",
    "        scaled_img = cv2.resize(rotated_img, (img.shape[1], img.shape[0]))  # Resize to original shape\n",
    "        augmented_images.append(scaled_img)\n",
    "    \n",
    "    return np.array(augmented_images)\n"
   ]
  },
  {
   "cell_type": "code",
   "execution_count": 13,
   "metadata": {},
   "outputs": [],
   "source": [
    "def augment_data(images, rotation_range=(-15, 15), scale_range=(0.9, 1.1), flip_probability=0.5):\n",
    "    augmented_images = []\n",
    "    for img in images:\n",
    "        # Random rotation\n",
    "        angle = np.random.randint(rotation_range[0], rotation_range[1])\n",
    "        rotation_matrix = cv2.getRotationMatrix2D((img.shape[1] // 2, img.shape[0] // 2), angle, 1.0)\n",
    "        rotated_img = cv2.warpAffine(img, rotation_matrix, (img.shape[1], img.shape[0]))\n",
    "\n",
    "        # Random scaling\n",
    "        scale_factor = np.random.uniform(scale_range[0], scale_range[1])\n",
    "        scaled_img = cv2.resize(rotated_img, None, fx=scale_factor, fy=scale_factor, interpolation=cv2.INTER_LINEAR)\n",
    "\n",
    "        # Random horizontal flip\n",
    "        if np.random.rand() < flip_probability:\n",
    "            scaled_img = cv2.flip(scaled_img, 1)\n",
    "\n",
    "        augmented_images.append(scaled_img)\n",
    "\n",
    "    # Ensure all images have the same shape\n",
    "    max_height = max(img.shape[0] for img in augmented_images)\n",
    "    max_width = max(img.shape[1] for img in augmented_images)\n",
    "    for i in range(len(augmented_images)):\n",
    "        augmented_images[i] = cv2.resize(augmented_images[i], (max_width, max_height))\n",
    "\n",
    "    return np.array(augmented_images)\n"
   ]
  },
  {
   "cell_type": "code",
   "execution_count": 14,
   "metadata": {},
   "outputs": [
    {
     "data": {
      "image/png": "[encoded data removed]",
      "text/plain": [
       "<Figure size 1000x500 with 10 Axes>"
      ]
     },
     "metadata": {},
     "output_type": "display_data"
    }
   ],
   "source": [
    "# Augment the training images\n",
    "augmented_X_train = augment_data(X_train)\n",
    "\n",
    "# Visualize original and augmented images\n",
    "plt.figure(figsize=(10, 5))\n",
    "for i in range(5):\n",
    "    plt.subplot(2, 5, i+1)\n",
    "    plt.imshow(X_train[i], cmap='gray')\n",
    "    plt.title('Original')\n",
    "    plt.axis('off')\n",
    "    \n",
    "    plt.subplot(2, 5, i+6)\n",
    "    plt.imshow(augmented_X_train[i], cmap='gray')\n",
    "    plt.title('Augmented')\n",
    "    plt.axis('off')\n",
    "plt.tight_layout()\n",
    "plt.show()"
   ]
  },
  {
   "cell_type": "code",
   "execution_count": 8,
   "metadata": {},
   "outputs": [],
   "source": [
    "def augment_data(images, rotation_range=(-15, 15), scale_range=(0.9, 1.1), flip_probability=0.5):\n",
    "  augmented_images = []\n",
    "  for img in images:\n",
    "    # Random rotation\n",
    "    angle = np.random.randint(rotation_range[0], rotation_range[1])\n",
    "    rotation_matrix = cv2.getRotationMatrix2D((img.shape[1]//2, img.shape[0]//2), angle, 1.0)\n",
    "    rotated_img = cv2.warpAffine(img, rotation_matrix, (img.shape[1], img.shape[0]))\n",
    "    \n",
    "    # Random scaling\n",
    "    scale_factor = np.random.uniform(scale_range[0], scale_range[1])\n",
    "    scaled_img = cv2.resize(rotated_img, (int(img.shape[1]*scale_factor), int(img.shape[0]*scale_factor)))\n",
    "    \n",
    "    # Random horizontal flip\n",
    "    if np.random.rand() < flip_probability:\n",
    "      scaled_img = cv2.flip(scaled_img, 1)\n",
    "    \n",
    "    augmented_images.append(scaled_img)\n",
    "  return np.array(augmented_images)\n"
   ]
  },
  {
   "cell_type": "code",
   "execution_count": null,
   "metadata": {},
   "outputs": [],
   "source": []
  }
 ],
 "metadata": {
  "kernelspec": {
   "display_name": "venv",
   "language": "python",
   "name": "python3"
  },
  "language_info": {
   "codemirror_mode": {
    "name": "ipython",
    "version": 3
   },
   "file_extension": ".py",
   "mimetype": "text/x-python",
   "name": "python",
   "nbconvert_exporter": "python",
   "pygments_lexer": "ipython3",
   "version": "3.11.3"
  }
 },
 "nbformat": 4,
 "nbformat_minor": 2
}
