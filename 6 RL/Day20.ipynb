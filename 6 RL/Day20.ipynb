{
  "cells": [
    {
      "cell_type": "code",
      "execution_count": 5,
      "metadata": {
        "id": "NXthUwBVBqV5"
      },
      "outputs": [],
      "source": [
        "import numpy as np\n",
        "import pandas as pd\n",
        "import matplotlib.pyplot as plt\n",
        "import seaborn as sns\n",
        "sns.set()"
      ]
    },
    {
      "cell_type": "code",
      "execution_count": null,
      "metadata": {
        "colab": {
          "base_uri": "https://localhost:8080/"
        },
        "id": "iMfAPy7ZBy0W",
        "outputId": "e123bab0-4830-4ce0-ff1a-82a382c4f3ec"
      },
      "outputs": [],
      "source": [
        "import numpy as np\n",
        "from google.colab import drive\n",
        "drive.mount('/content/drive',force_remount=True)\n",
        "%cd \"/content/drive/MyDrive/RP\""
      ]
    },
    {
      "cell_type": "code",
      "execution_count": null,
      "metadata": {
        "colab": {
          "base_uri": "https://localhost:8080/",
          "height": 278
        },
        "id": "XgudKav2B0nd",
        "outputId": "a9a2f31c-0e34-4982-83e9-f5aad3a2d92b"
      },
      "outputs": [],
      "source": [
        "from pandas_datareader import data as pdr\n",
        "import yfinance as yf\n",
        "yf.pdr_override()\n",
        "df = pdr.get_data_yahoo(\"LT.NS\", start=\"2022-01-03\").reset_index()\n",
        "df.to_csv('/content/LT.csv',index=False)\n",
        "df.head()"
      ]
    },
    {
      "cell_type": "code",
      "execution_count": null,
      "metadata": {
        "colab": {
          "base_uri": "https://localhost:8080/",
          "height": 573
        },
        "id": "LBbYBs15B331",
        "outputId": "1d233c76-f162-4e97-a7fd-9776ea6a15eb"
      },
      "outputs": [],
      "source": [
        "import matplotlib.pyplot as plt\n",
        "\n",
        "plt.figure(figsize=(12, 6))\n",
        "plt.plot(df['Date'], df['Close'])\n",
        "plt.title('Closing Price')\n",
        "plt.xlabel('Date')\n",
        "plt.ylabel('Stock Price')\n",
        "plt.show()"
      ]
    },
    {
      "cell_type": "code",
      "execution_count": null,
      "metadata": {
        "id": "31JIUXPZB4cK"
      },
      "outputs": [],
      "source": [
        "df = pd.read_csv('/content/LT.csv')"
      ]
    },
    {
      "cell_type": "markdown",
      "metadata": {
        "id": "_i3ZQtxbB6gP"
      },
      "source": [
        "### Policy Gradient agent"
      ]
    },
    {
      "cell_type": "code",
      "execution_count": null,
      "metadata": {
        "id": "8GO2k2u2CCMK"
      },
      "outputs": [],
      "source": [
        "import tensorflow as tf\n",
        "name = 'Policy Gradient agent'\n",
        "class Agent:\n",
        "\n",
        "    LEARNING_RATE = 1e-4\n",
        "    LAYER_SIZE = 256\n",
        "    GAMMA = 0.9\n",
        "    OUTPUT_SIZE = 3\n",
        "\n",
        "    def __init__(self, state_size, window_size, trend, skip):\n",
        "        self.state_size = state_size\n",
        "        self.window_size = window_size\n",
        "        self.half_window = window_size // 2\n",
        "        self.trend = trend\n",
        "        self.skip = skip\n",
        "        self.X = tf.placeholder(tf.float32, (None, self.state_size))\n",
        "        self.REWARDS = tf.placeholder(tf.float32, (None))\n",
        "        self.ACTIONS = tf.placeholder(tf.int32, (None))\n",
        "        feed_forward = tf.layers.dense(self.X, self.LAYER_SIZE, activation = tf.nn.relu)\n",
        "        self.logits = tf.layers.dense(feed_forward, self.OUTPUT_SIZE, activation = tf.nn.softmax)\n",
        "        input_y = tf.one_hot(self.ACTIONS, self.OUTPUT_SIZE)\n",
        "        loglike = tf.log((input_y * (input_y - self.logits) + (1 - input_y) * (input_y + self.logits)) + 1)\n",
        "        rewards = tf.tile(tf.reshape(self.REWARDS, (-1,1)), [1, self.OUTPUT_SIZE])\n",
        "        self.cost = -tf.reduce_mean(loglike * (rewards + 1))\n",
        "        self.optimizer = tf.train.AdamOptimizer(learning_rate = self.LEARNING_RATE).minimize(self.cost)\n",
        "        self.sess = tf.InteractiveSession()\n",
        "        self.sess.run(tf.global_variables_initializer())\n",
        "\n",
        "    def predict(self, inputs):\n",
        "        return self.sess.run(self.logits, feed_dict={self.X:inputs})\n",
        "\n",
        "    def get_state(self, t):\n",
        "        window_size = self.window_size + 1\n",
        "        d = t - window_size + 1\n",
        "        block = self.trend[d : t + 1] if d >= 0 else -d * [self.trend[0]] + self.trend[0 : t + 1]\n",
        "        res = []\n",
        "        for i in range(window_size - 1):\n",
        "            res.append(block[i + 1] - block[i])\n",
        "        return np.array([res])\n",
        "\n",
        "    def discount_rewards(self, r):\n",
        "        discounted_r = np.zeros_like(r)\n",
        "        running_add = 0\n",
        "        for t in reversed(range(0, r.size)):\n",
        "            running_add = running_add * self.GAMMA + r[t]\n",
        "            discounted_r[t] = running_add\n",
        "        return discounted_r\n",
        "\n",
        "    def get_predicted_action(self, sequence):\n",
        "        prediction = self.predict(np.array(sequence))[0]\n",
        "        return np.argmax(prediction)\n",
        "\n",
        "    def buy(self, initial_money):\n",
        "        starting_money = initial_money\n",
        "        states_sell = []\n",
        "        states_buy = []\n",
        "        inventory = []\n",
        "        state = self.get_state(0)\n",
        "        for t in range(0, len(self.trend) - 1, self.skip):\n",
        "            action = self.get_predicted_action(state)\n",
        "            next_state = self.get_state(t + 1)\n",
        "\n",
        "            if action == 1 and initial_money >= self.trend[t] and t < (len(self.trend) - self.half_window):\n",
        "                inventory.append(self.trend[t])\n",
        "                initial_money -= self.trend[t]\n",
        "                states_buy.append(t)\n",
        "                print('day %d: buy 1 unit at price %f, total balance %f'% (t, self.trend[t], initial_money))\n",
        "\n",
        "\n",
        "            elif action == 2 and len(inventory):\n",
        "                bought_price = inventory.pop(0)\n",
        "                initial_money += self.trend[t]\n",
        "                states_sell.append(t)\n",
        "                try:\n",
        "                    invest = ((close[t] - bought_price) / bought_price) * 100\n",
        "                except:\n",
        "                    invest = 0\n",
        "                print(\n",
        "                    'day %d, sell 1 unit at price %f, investment %f %%, total balance %f,'\n",
        "                    % (t, close[t], invest, initial_money)\n",
        "                )\n",
        "\n",
        "            state = next_state\n",
        "        invest = ((initial_money - starting_money) / starting_money) * 100\n",
        "        total_gains = initial_money - starting_money\n",
        "        return states_buy, states_sell, total_gains, invest\n",
        "\n",
        "\n",
        "    def train(self, iterations, checkpoint, initial_money):\n",
        "        for i in range(iterations):\n",
        "            ep_history = []\n",
        "            total_profit = 0\n",
        "            inventory = []\n",
        "            state = self.get_state(0)\n",
        "            starting_money = initial_money\n",
        "            for t in range(0, len(self.trend) - 1, self.skip):\n",
        "                action = self.get_predicted_action(state)\n",
        "                next_state = self.get_state(t + 1)\n",
        "                if action == 1 and starting_money >= self.trend[t] and t < (len(self.trend) - self.half_window):\n",
        "                    inventory.append(self.trend[t])\n",
        "                    starting_money -= close[t]\n",
        "\n",
        "                elif action == 2 and len(inventory):\n",
        "                    bought_price = inventory.pop(0)\n",
        "                    total_profit += self.trend[t] - bought_price\n",
        "                    starting_money += self.trend[t]\n",
        "                ep_history.append([state,action,starting_money,next_state])\n",
        "                state = next_state\n",
        "            ep_history = np.array(ep_history)\n",
        "            ep_history[:,2] = self.discount_rewards(ep_history[:,2])\n",
        "            cost, _ = self.sess.run([self.cost, self.optimizer], feed_dict={self.X:np.vstack(ep_history[:,0]),\n",
        "                                                    self.REWARDS:ep_history[:,2],\n",
        "                                                    self.ACTIONS:ep_history[:,1]})\n",
        "            if (i+1) % checkpoint == 0:\n",
        "                print('epoch: %d, total rewards: %f.3, cost: %f, total money: %f'%(i + 1, total_profit, cost,\n",
        "                                                                                  starting_money))"
      ]
    },
    {
      "cell_type": "code",
      "execution_count": null,
      "metadata": {
        "colab": {
          "base_uri": "https://localhost:8080/"
        },
        "id": "7VJYqW5fC_vx",
        "outputId": "bfd98544-a541-40d8-a98d-d0312dc38db7"
      },
      "outputs": [],
      "source": [
        "!pip install --upgrade tensorflow"
      ]
    },
    {
      "cell_type": "code",
      "execution_count": null,
      "metadata": {
        "colab": {
          "base_uri": "https://localhost:8080/"
        },
        "id": "9Pf0L000CFud",
        "outputId": "7a3f675a-0e73-4a83-db84-2f4a56e3b07b"
      },
      "outputs": [],
      "source": [
        "close = df.Close.values.tolist()\n",
        "import tensorflow.compat.v1 as tf\n",
        "tf.disable_v2_behavior()\n",
        "initial_money = 10000\n",
        "window_size = 30\n",
        "skip = 1\n",
        "agent = Agent(state_size = window_size,\n",
        "             window_size = window_size,\n",
        "             trend = close,\n",
        "             skip = skip)\n",
        "agent.train(iterations = 400, checkpoint = 20, initial_money = initial_money)"
      ]
    },
    {
      "cell_type": "code",
      "execution_count": null,
      "metadata": {
        "colab": {
          "base_uri": "https://localhost:8080/"
        },
        "id": "1LFJSeSxCHeP",
        "outputId": "89bf414b-8b7f-4506-8044-3357d13fa870"
      },
      "outputs": [],
      "source": [
        "states_buy, states_sell, total_gains, invest = agent.buy(initial_money = initial_money)"
      ]
    },
    {
      "cell_type": "code",
      "execution_count": null,
      "metadata": {
        "colab": {
          "base_uri": "https://localhost:8080/",
          "height": 613
        },
        "id": "J3nghTdACLka",
        "outputId": "514b1748-0214-4f07-e917-113d33900b17"
      },
      "outputs": [],
      "source": [
        "import matplotlib.pyplot as plt\n",
        "import matplotlib.dates as mdates\n",
        "import pandas as pd\n",
        "\n",
        "# Load the dataset\n",
        "df = pd.read_csv('/content/LT.csv')\n",
        "\n",
        "# Extract date and close price\n",
        "date = pd.to_datetime(df['Date'])\n",
        "close = df['Close']\n",
        "\n",
        "# Get the index of the first closing value\n",
        "first_closing_index = close.first_valid_index()\n",
        "\n",
        "# Extract the date and close price starting from the first closing value\n",
        "date = date[first_closing_index:]\n",
        "close = close[first_closing_index:]\n",
        "plt.figure(figsize=(12, 6))\n",
        "plt.plot(date, close, color='r', lw=2.)\n",
        "\n",
        "# Plot markers for buying and selling signals\n",
        "plt.plot(date[states_buy], close[states_buy], '^', markersize=3, color='m', label='buying signal')\n",
        "plt.plot(date[states_sell], close[states_sell], 'v', markersize=3, color='k', label='selling signal')\n",
        "\n",
        "plt.title('Total gains: %.2f, profit %%: %.2f%%' % (total_gains, invest))\n",
        "\n",
        "# Set the locator for x-axis ticks to show dates every three months\n",
        "plt.gca().xaxis.set_major_locator(mdates.MonthLocator(interval=3))\n",
        "\n",
        "plt.xlabel('Date')\n",
        "plt.ylabel('Stock Price')\n",
        "plt.xticks(rotation=45)\n",
        "plt.legend()\n",
        "plt.show()\n"
      ]
    },
    {
      "cell_type": "code",
      "execution_count": null,
      "metadata": {
        "id": "srrAt84CE3mM"
      },
      "outputs": [],
      "source": []
    }
  ],
  "metadata": {
    "colab": {
      "provenance": []
    },
    "kernelspec": {
      "display_name": "Python 3",
      "name": "python3"
    },
    "language_info": {
      "codemirror_mode": {
        "name": "ipython",
        "version": 3
      },
      "file_extension": ".py",
      "mimetype": "text/x-python",
      "name": "python",
      "nbconvert_exporter": "python",
      "pygments_lexer": "ipython3",
      "version": "3.11.3"
    }
  },
  "nbformat": 4,
  "nbformat_minor": 0
}
