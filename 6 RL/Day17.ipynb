{
 "cells": [
  {
   "cell_type": "code",
   "execution_count": 6,
   "metadata": {},
   "outputs": [],
   "source": [
    "import gymnasium as gym\n",
    "env = gym.make('CartPole-v1')"
   ]
  },
  {
   "cell_type": "code",
   "execution_count": 9,
   "metadata": {},
   "outputs": [],
   "source": [
    "import gymnasium as gym\n",
    "env = gym.make(\"CartPole-v1\")\n",
    "\n",
    "observation, info = env.reset(seed=42)\n",
    "for _ in range(1000):\n",
    "    action = env.action_space.sample()\n",
    "    observation, reward, terminated, truncated, info = env.step(action)\n",
    "\n",
    "    if terminated or truncated:\n",
    "        observation, info = env.reset()\n",
    "env.close()"
   ]
  },
  {
   "cell_type": "code",
   "execution_count": 21,
   "metadata": {},
   "outputs": [
    {
     "ename": "TypeError",
     "evalue": "unhashable type: 'dict'",
     "output_type": "error",
     "traceback": [
      "\u001b[1;31m---------------------------------------------------------------------------\u001b[0m",
      "\u001b[1;31mTypeError\u001b[0m                                 Traceback (most recent call last)",
      "Cell \u001b[1;32mIn[21], line 22\u001b[0m\n\u001b[0;32m     18\u001b[0m done \u001b[38;5;241m=\u001b[39m \u001b[38;5;28;01mFalse\u001b[39;00m\n\u001b[0;32m     20\u001b[0m \u001b[38;5;28;01mwhile\u001b[39;00m \u001b[38;5;129;01mnot\u001b[39;00m done:\n\u001b[0;32m     21\u001b[0m   \u001b[38;5;66;03m# Epsilon-greedy action selection\u001b[39;00m\n\u001b[1;32m---> 22\u001b[0m       \u001b[38;5;28;01mif\u001b[39;00m \u001b[43m(\u001b[49m\u001b[43mstate\u001b[49m\u001b[43m,\u001b[49m\u001b[43m \u001b[49m\u001b[38;5;124;43m'\u001b[39;49m\u001b[38;5;124;43mexplore\u001b[39;49m\u001b[38;5;124;43m'\u001b[39;49m\u001b[43m)\u001b[49m\u001b[43m \u001b[49m\u001b[38;5;129;43;01mnot\u001b[39;49;00m\u001b[43m \u001b[49m\u001b[38;5;129;43;01min\u001b[39;49;00m\u001b[43m \u001b[49m\u001b[43mQ\u001b[49m \u001b[38;5;129;01mor\u001b[39;00m np\u001b[38;5;241m.\u001b[39mrandom\u001b[38;5;241m.\u001b[39mrand() \u001b[38;5;241m<\u001b[39m exploration_prob:\n\u001b[0;32m     23\u001b[0m           action \u001b[38;5;241m=\u001b[39m env\u001b[38;5;241m.\u001b[39maction_space\u001b[38;5;241m.\u001b[39msample()  \u001b[38;5;66;03m# Explore\u001b[39;00m\n\u001b[0;32m     24\u001b[0m       \u001b[38;5;28;01melse\u001b[39;00m:\n",
      "\u001b[1;31mTypeError\u001b[0m: unhashable type: 'dict'"
     ]
    }
   ],
   "source": [
    "import numpy as np\n",
    "\n",
    "\n",
    "env = gym.make('Taxi-v3')\n",
    "\n",
    "# Initialize Q-table with zeros\n",
    "Q = dict()\n",
    "\n",
    "# Q-learning parameters\n",
    "learning_rate = 0.1\n",
    "discount_factor = 0.99\n",
    "exploration_prob = 0.2\n",
    "num_episodes = 1000\n",
    "\n",
    "# Q-learning training loop\n",
    "for episode in range(num_episodes):\n",
    "  state = env.reset()\n",
    "  done = False\n",
    "\n",
    "  while not done:\n",
    "    # Epsilon-greedy action selection\n",
    "        if (state, 'explore') not in Q or np.random.rand() < exploration_prob:\n",
    "            action = env.action_space.sample()  # Explore\n",
    "        else:\n",
    "            action = max(env.action_space.n, key=lambda a: Q.get((state, a), 0))  # Exploit\n",
    "\n",
    "        # Take action and observe new state and reward\n",
    "        new_state, reward, done, _ = env.step(action)\n",
    "\n",
    "        # Q-learning update\n",
    "        if state not in Q:\n",
    "            Q[state] = {a: 0 for a in range(env.action_space.n)}\n",
    "        Q[state][action] = Q[state][action] + learning_rate * (reward + discount_factor * max(Q.get(new_state, {0: 0}).values()) - Q[state][action])\n",
    "\n",
    "        # Transition to the new state\n",
    "        state = new_state\n",
    "\n",
    "    # Print episode information\n",
    "        if episode % 100 == 0:\n",
    "            total_reward = sum(Q[state][action] for state in Q for action in Q[state])\n",
    "            print(f\"Episode {episode}, Total Reward: {total_reward}\")\n",
    "\n",
    "# Test the trained agent\n",
    "total_reward = 0\n",
    "state = env.reset()\n",
    "done = False\n",
    "\n",
    "while not done:\n",
    "    action = max(Q[state], key=Q[state].get)\n",
    "    new_state, reward, done, _ = env.step(action)\n",
    "    total_reward += reward\n",
    "    state = new_state\n",
    "\n",
    "print(f\"Test Total Reward: {total_reward}\")\n"
   ]
  },
  {
   "cell_type": "code",
   "execution_count": null,
   "metadata": {},
   "outputs": [],
   "source": []
  },
  {
   "cell_type": "code",
   "execution_count": null,
   "metadata": {},
   "outputs": [],
   "source": []
  }
 ],
 "metadata": {
  "kernelspec": {
   "display_name": "venv",
   "language": "python",
   "name": "python3"
  },
  "language_info": {
   "codemirror_mode": {
    "name": "ipython",
    "version": 3
   },
   "file_extension": ".py",
   "mimetype": "text/x-python",
   "name": "python",
   "nbconvert_exporter": "python",
   "pygments_lexer": "ipython3",
   "version": "3.11.3"
  }
 },
 "nbformat": 4,
 "nbformat_minor": 2
}
