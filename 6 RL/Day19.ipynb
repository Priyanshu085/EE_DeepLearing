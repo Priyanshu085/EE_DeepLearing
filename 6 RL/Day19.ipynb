{
 "cells": [
  {
   "cell_type": "code",
   "execution_count": null,
   "metadata": {},
   "outputs": [],
   "source": [
    "import gymnasium as gym\n",
    "import numpy as np\n",
    "import tensorflow as tf"
   ]
  },
  {
   "cell_type": "code",
   "execution_count": 2,
   "metadata": {},
   "outputs": [],
   "source": [
    "from collections import defaultdict\n",
    "\n",
    "import numpy as np\n",
    "import seaborn as sns\n",
    "import matplotlib.pyplot as plt\n",
    "\n",
    "from matplotlib.patches import Patch\n",
    "\n",
    "from tqdm import tqdm\n",
    "import gymnasium as gym"
   ]
  },
  {
   "cell_type": "code",
   "execution_count": 5,
   "metadata": {},
   "outputs": [],
   "source": [
    "\n",
    "env = gym.make('Blackjack-v1',sab=True, render_mode='rgb_array')"
   ]
  },
  {
   "cell_type": "markdown",
   "metadata": {},
   "source": [
    "### Oberserving the Env."
   ]
  },
  {
   "cell_type": "code",
   "execution_count": 6,
   "metadata": {},
   "outputs": [],
   "source": [
    "done= False\n",
    "observation, info= env.reset()"
   ]
  },
  {
   "cell_type": "code",
   "execution_count": 7,
   "metadata": {},
   "outputs": [],
   "source": [
    "action= env.action_space.sample()\n",
    "\n",
    "observation, reward, terminated, truncated, info= env.step(action)"
   ]
  },
  {
   "cell_type": "code",
   "execution_count": 8,
   "metadata": {},
   "outputs": [],
   "source": [
    "class BlackAgent:\n",
    "  def __init__(\n",
    "    self, \n",
    "    learning_rate: float,\n",
    "    initial_epsilon: float,\n",
    "    epsilon_decay: float,\n",
    "    final_epsilon: float,\n",
    "    discount_factor= 0.95,\n",
    "  ):\n",
    "    self.q_values= defaultdict(lambda: np.zeros(env.action_space.n))\n",
    "    self.lr= learning_rate\n",
    "    self.discount_factor= discount_factor\n",
    "    self.epsilon= initial_epsilon\n",
    "    self.epsilon_deacy= epsilon_decay\n",
    "    self.final_epsilon= final_epsilon\n",
    "\n",
    "    self.training_error= []"
   ]
  },
  {
   "cell_type": "code",
   "execution_count": 9,
   "metadata": {},
   "outputs": [],
   "source": [
    "def get_action(self, abs:tuple[int, int, bool])-> int:\n",
    "  if np.random.rand() < self.epsilon:\n",
    "    return env.action_space.sample()\n",
    "  else:\n",
    "    return int(np.argmax(self.q_values[abs]))"
   ]
  },
  {
   "cell_type": "code",
   "execution_count": 19,
   "metadata": {},
   "outputs": [],
   "source": [
    "def update(\n",
    "    self,\n",
    "    abs:tuple[int, int, bool],\n",
    "    action: int,\n",
    "    reward: float,\n",
    "    terminated: bool,\n",
    "    next_abs: tuple[int, int, bool],\n",
    "):\n",
    "  future_q_value = (not terminated) * np.max(self.q_values[next_abs])\n",
    "  temporal_difference= (\n",
    "    reward + self.discount_factor * future_q_value - self.q_values[abs][action]\n",
    "  )\n",
    "\n",
    "  self:q_values[abs][action]= (\n",
    "    q_values[abs][action] + self.lr * temporal_difference\n",
    "  )\n",
    "\n",
    "  self.training_error.append(temporal_difference)"
   ]
  },
  {
   "cell_type": "markdown",
   "metadata": {},
   "source": []
  },
  {
   "cell_type": "code",
   "execution_count": 20,
   "metadata": {},
   "outputs": [],
   "source": [
    "def decay_epsilon(self):\n",
    "  self.epsilon= max(self.final_epsilon, self, self.epsilon_decay)\n"
   ]
  },
  {
   "cell_type": "markdown",
   "metadata": {},
   "source": []
  },
  {
   "cell_type": "code",
   "execution_count": 21,
   "metadata": {},
   "outputs": [],
   "source": [
    "learning_rate= 0.01\n",
    "n_episodes= 100_000\n",
    "start_epsilon= 1.0\n",
    "epsilon_decay= start_epsilon / (n_episodes/2)\n",
    "final_epsilon= 0.1\n",
    "\n",
    "agent= BlackAgent(\n",
    "  learning_rate= learning_rate,\n",
    "  initial_epsilon= start_epsilon,\n",
    "  epsilon_decay= epsilon_decay,\n",
    "  final_epsilon= final_epsilon,\n",
    ")"
   ]
  },
  {
   "cell_type": "code",
   "execution_count": null,
   "metadata": {},
   "outputs": [],
   "source": []
  },
  {
   "cell_type": "code",
   "execution_count": null,
   "metadata": {},
   "outputs": [],
   "source": []
  }
 ],
 "metadata": {
  "kernelspec": {
   "display_name": "venv",
   "language": "python",
   "name": "python3"
  },
  "language_info": {
   "codemirror_mode": {
    "name": "ipython",
    "version": 3
   },
   "file_extension": ".py",
   "mimetype": "text/x-python",
   "name": "python",
   "nbconvert_exporter": "python",
   "pygments_lexer": "ipython3",
   "version": "3.11.3"
  }
 },
 "nbformat": 4,
 "nbformat_minor": 2
}
