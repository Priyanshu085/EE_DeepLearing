{
 "cells": [
  {
   "cell_type": "markdown",
   "metadata": {},
   "source": [
    "# Srq2Seq Model"
   ]
  },
  {
   "cell_type": "code",
   "execution_count": null,
   "metadata": {},
   "outputs": [],
   "source": [
    "import numpy as np\n",
    "import tensorflow as tf\n",
    "from tensorflow.keras.models import Model\n",
    "from tensorflow.keras.layers import Input, LSTM, Dense"
   ]
  },
  {
   "cell_type": "code",
   "execution_count": null,
   "metadata": {},
   "outputs": [],
   "source": [
    "class Seq2Seq:\n",
    "    def __init__(self, input_vocab_size, target_vocab_size, input_length, target_length, hidden_units):\n",
    "        self.input_vocab_size = input_vocab_size\n",
    "        self.target_vocab_size = target_vocab_size\n",
    "        self.input_length = input_length\n",
    "        self.target_length = target_length\n",
    "        self.hidden_units = hidden_units\n",
    "        \n",
    "        # Define encoder\n",
    "        encoder_inputs = Input(shape=(self.input_length,))\n",
    "        encoder_embedding = tf.keras.layers.Embedding(self.input_vocab_size, self.hidden_units, input_length=self.input_length)(encoder_inputs)\n",
    "        encoder_lstm = LSTM(self.hidden_units, return_state=True)\n",
    "        encoder_outputs, state_h, state_c = encoder_lstm(encoder_embedding)\n",
    "        encoder_states = [state_h, state_c]\n",
    "\n",
    "        # Define decoder\n",
    "        decoder_inputs = Input(shape=(self.target_length,))\n",
    "        decoder_embedding = tf.keras.layers.Embedding(self.target_vocab_size, self.hidden_units, input_length=self.target_length)(decoder_inputs)\n",
    "        decoder_lstm = LSTM(self.hidden_units, return_sequences=True, return_state=True)\n",
    "        decoder_outputs, _, _ = decoder_lstm(decoder_embedding, initial_state=encoder_states)\n",
    "        decoder_dense = Dense(self.target_vocab_size, activation='softmax')\n",
    "        decoder_outputs = decoder_dense(decoder_outputs)\n",
    "\n",
    "        # Define model\n",
    "        self.model = Model([encoder_inputs, decoder_inputs], decoder_outputs)\n",
    "        self.model.compile(optimizer='rmsprop', loss='categorical_crossentropy', metrics=['accuracy'])\n",
    "    \n",
    "    def train(self, input_sequences, target_sequences, batch_size, epochs):\n",
    "        self.model.fit([input_sequences, target_sequences[:, :-1]], target_sequences[:, 1:], batch_size=batch_size, epochs=epochs, validation_split=0.2)\n",
    "\n",
    "    def predict(self, input_sequence):\n",
    "        return self.model.predict(input_sequence)"
   ]
  }
 ],
 "metadata": {
  "language_info": {
   "name": "python"
  }
 },
 "nbformat": 4,
 "nbformat_minor": 2
}
