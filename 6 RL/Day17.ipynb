{
 "cells": [
  {
   "cell_type": "code",
   "execution_count": null,
   "metadata": {},
   "outputs": [],
   "source": [
    "import gymnasium as gym\n",
    "env = gym.make('CartPole-v1')"
   ]
  },
  {
   "cell_type": "code",
   "execution_count": null,
   "metadata": {},
   "outputs": [],
   "source": [
    "import gymnasium as gym\n",
    "env = gym.make(\"CartPole-v1\")\n",
    "\n",
    "observation, info = env.reset(seed=42)\n",
    "for _ in range(1000):\n",
    "    action = env.action_space.sample()\n",
    "    observation, reward, terminated, truncated, info = env.step(action)\n",
    "\n",
    "    if terminated or truncated:\n",
    "        observation, info = env.reset()\n",
    "env.close()"
   ]
  },
  {
   "cell_type": "code",
   "execution_count": null,
   "metadata": {},
   "outputs": [],
   "source": [
    "import numpy as np\n",
    "\n",
    "\n",
    "env = gym.make('Taxi-v3')\n",
    "\n",
    "# Initialize Q-table with zeros\n",
    "Q = dict()\n",
    "\n",
    "# Q-learning parameters\n",
    "learning_rate = 0.1\n",
    "discount_factor = 0.99\n",
    "exploration_prob = 0.2\n",
    "num_episodes = 1000\n",
    "\n",
    "# Q-learning training loop\n",
    "for episode in range(num_episodes):\n",
    "  state = env.reset()\n",
    "  done = False\n",
    "\n",
    "  while not done:\n",
    "    # Epsilon-greedy action selection\n",
    "        if (state, 'explore') not in Q or np.random.rand() < exploration_prob:\n",
    "            action = env.action_space.sample()  # Explore\n",
    "        else:\n",
    "            action = max(env.action_space.n, key=lambda a: Q.get((state, a), 0))  # Exploit\n",
    "\n",
    "        # Take action and observe new state and reward\n",
    "        new_state, reward, done, _ = env.step(action)\n",
    "\n",
    "        # Q-learning update\n",
    "        if state not in Q:\n",
    "            Q[state] = {a: 0 for a in range(env.action_space.n)}\n",
    "        Q[state][action] = Q[state][action] + learning_rate * (reward + discount_factor * max(Q.get(new_state, {0: 0}).values()) - Q[state][action])\n",
    "\n",
    "        # Transition to the new state\n",
    "        state = new_state\n",
    "\n",
    "    # Print episode information\n",
    "        if episode % 100 == 0:\n",
    "            total_reward = sum(Q[state][action] for state in Q for action in Q[state])\n",
    "            print(f\"Episode {episode}, Total Reward: {total_reward}\")\n",
    "\n",
    "# Test the trained agent\n",
    "total_reward = 0\n",
    "state = env.reset()\n",
    "done = False\n",
    "\n",
    "while not done:\n",
    "    action = max(Q[state], key=Q[state].get)\n",
    "    new_state, reward, done, _ = env.step(action)\n",
    "    total_reward += reward\n",
    "    state = new_state\n",
    "\n",
    "print(f\"Test Total Reward: {total_reward}\")\n"
   ]
  },
  {
   "cell_type": "code",
   "execution_count": null,
   "metadata": {},
   "outputs": [],
   "source": []
  },
  {
   "cell_type": "code",
   "execution_count": null,
   "metadata": {},
   "outputs": [],
   "source": []
  }
 ],
 "metadata": {
  "kernelspec": {
   "display_name": "venv",
   "language": "python",
   "name": "python3"
  },
  "language_info": {
   "codemirror_mode": {
    "name": "ipython",
    "version": 3
   },
   "file_extension": ".py",
   "mimetype": "text/x-python",
   "name": "python",
   "nbconvert_exporter": "python",
   "pygments_lexer": "ipython3",
   "version": "3.11.3"
  }
 },
 "nbformat": 4,
 "nbformat_minor": 2
}
